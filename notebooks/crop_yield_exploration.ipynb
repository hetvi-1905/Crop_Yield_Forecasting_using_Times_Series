{
 "cells": [
  {
   "cell_type": "code",
   "execution_count": null,
   "metadata": {},
   "outputs": [],
   "source": [
    "# Import necessary libraries\n",
    "import pandas as pd\n",
    "import matplotlib.pyplot as plt\n",
    "import seaborn as sns\n",
    "from statsmodels.tsa.seasonal import seasonal_decompose\n",
    "from statsmodels.tsa.stattools import adfuller\n",
    "\n",
    "# Load the crop data\n",
    "wheat_df = pd.read_csv('data/wheat_yield_data_large.csv')\n",
    "paddy_df = pd.read_csv('data/paddy_yield_data_large.csv')\n",
    "maize_df = pd.read_csv('data/maize_yield_data_large.csv')\n",
    "\n",
    "# Display the first few rows\n",
    "wheat_df.head()\n",
    "\n",
    "# Plot yield data for each crop\n",
    "plt.figure(figsize=(14, 6))\n",
    "plt.plot(wheat_df['Year'], wheat_df['Yield'], label='Wheat Yield', color='blue')\n",
    "plt.plot(paddy_df['Year'], paddy_df['Yield'], label='Paddy Yield', color='green')\n",
    "plt.plot(maize_df['Year'], maize_df['Yield'], label='Maize Yield', color='orange')\n",
    "plt.title('Crop Yield Over Time (1800-2024)')\n",
    "plt.xlabel('Year')\n",
    "plt.ylabel('Yield')\n",
    "plt.legend()\n",
    "plt.grid(True)\n",
    "plt.show()\n",
    "\n",
    "# Decompose the wheat yield data to check for seasonality\n",
    "decomposed = seasonal_decompose(wheat_df['Yield'], period=12, model='additive', extrapolate_trend='freq')\n",
    "decomposed.plot()\n",
    "plt.show()\n",
    "\n",
    "# Perform Augmented Dickey-Fuller test for stationarity\n",
    "result = adfuller(wheat_df['Yield'])\n",
    "print(f'ADF Statistic: {result[0]}')\n",
    "print(f'p-value: {result[1]}')\n",
    "\n",
    "# You can repeat the decomposition and ADF test for paddy and maize as well\n"
   ]
  },
  {
   "cell_type": "code",
   "execution_count": null,
   "metadata": {},
   "outputs": [],
   "source": []
  }
 ],
 "metadata": {
  "language_info": {
   "name": "python"
  }
 },
 "nbformat": 4,
 "nbformat_minor": 2
}
